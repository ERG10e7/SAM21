{
 "cells": [
  {
   "cell_type": "code",
   "execution_count": null,
   "metadata": {},
   "outputs": [],
   "source": []
  },
  {
   "cell_type": "code",
   "execution_count": 32,
   "metadata": {},
   "outputs": [
    {
     "name": "stdout",
     "output_type": "stream",
     "text": [
      "Stay win percentage: 28.999999999999996\n",
      "Switch win percentage: 64.0\n"
     ]
    }
   ],
   "source": [
    "import numpy as np\n",
    "import matplotlib.pyplot as plt\n",
    "\n",
    "def Monty(decision):\n",
    "    [[pick,win]] = np.random.randint(low=1,high=4,size=(1,2))\n",
    "    doors =[1,2,3]\n",
    "   \n",
    "    if pick == win:\n",
    "        \n",
    "        if decision == \"stay\":\n",
    "            return 1\n",
    "        else: \n",
    "            return 0\n",
    "        \n",
    "    else:\n",
    "        if decision == \"stay\":\n",
    "            return 0\n",
    "        else: \n",
    "            return 1\n",
    "\n",
    "def Play(attempts,decide):\n",
    "    win_results = []\n",
    "    \n",
    "    for x in range(attempts):\n",
    "        win_results.append(Monty(decide))\n",
    "        \n",
    "    return np.sum(win_results)/attempts\n",
    "    \n",
    "print(\"Stay win percentage:\",Play(500,\"stay\")*100)\n",
    "print(\"Switch win percentage:\",Play(500,\"switch\")*100)"
   ]
  },
  {
   "cell_type": "code",
   "execution_count": 31,
   "metadata": {},
   "outputs": [
    {
     "data": {
      "image/png": "[encoded data removed]",
      "text/plain": [
       "<Figure size 432x288 with 1 Axes>"
      ]
     },
     "metadata": {
      "needs_background": "light"
     },
     "output_type": "display_data"
    }
   ],
   "source": [
    "from random import random\n",
    "from numpy import arange\n",
    "from pylab import plot,xlabel,ylabel,show\n",
    "\n",
    "NBi213 = 10000\n",
    "NTl209 = 0\n",
    "NPb209 = 0\n",
    "NBi209 = 0\n",
    "\n",
    "tauBi = 46*60\n",
    "tauTl = 2.2*60\n",
    "tauPb = 3.3*60\n",
    "\n",
    "h = 1.0\n",
    "pBiPb = (1 - 2**(-h/tauBi))*0.9791\n",
    "pBiTl = (1 - 2**(-h/tauBi))*0.0209\n",
    "pTlPb = (1 - 2**(-h/tauTl))\n",
    "pPbBi = (1 - 2**(-h/tauPb))\n",
    "\n",
    "tmax = 20000\n",
    "\n",
    "tpoints = arange(0.0,tmax,h)\n",
    "Bi213points = []\n",
    "Tl209points = []\n",
    "Pb209points = []\n",
    "Bi209points = []\n",
    "\n",
    "for t in tpoints:\n",
    "    Bi213points.append(NBi213)\n",
    "    Pb209points.append(NPb209) \n",
    "    Tl209points.append(NTl209)\n",
    "    Bi209points.append(NBi209) \n",
    "    \n",
    "    decay = 0\n",
    "    for i in range(NBi213):\n",
    "        if random() < pBiPb:\n",
    "            decay += 1\n",
    "            NBi213 -= decay\n",
    "            NPb209 += decay\n",
    "        elif random() < pBiTl:\n",
    "            decay += 1\n",
    "            NBi213 -= decay\n",
    "            NTl209 += decay\n",
    "    \n",
    "    for i in range(NPb209):\n",
    "        if random() < pPbBi:\n",
    "            decay += 1\n",
    "    NPb209 -= decay\n",
    "    NBi209 += decay\n",
    "\n",
    "\n",
    "plot(tpoints,Pb209points, c='m')\n",
    "plot(tpoints,Bi213points, c='b')\n",
    "plot(tpoints,Tl209points, c='y')\n",
    "plot(tpoints,Bi209points, c='k')\n",
    "xlabel(\"Time\")\n",
    "ylabel(\"Number of atoms\")\n",
    "show()"
   ]
  },
  {
   "cell_type": "code",
   "execution_count": null,
   "metadata": {},
   "outputs": [],
   "source": []
  }
 ],
 "metadata": {
  "kernelspec": {
   "display_name": "Python 3",
   "language": "python",
   "name": "python3"
  },
  "language_info": {
   "codemirror_mode": {
    "name": "ipython",
    "version": 3
   },
   "file_extension": ".py",
   "mimetype": "text/x-python",
   "name": "python",
   "nbconvert_exporter": "python",
   "pygments_lexer": "ipython3",
   "version": "3.7.6"
  }
 },
 "nbformat": 4,
 "nbformat_minor": 5
}
