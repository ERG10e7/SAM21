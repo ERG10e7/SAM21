{
 "cells": [
  {
   "cell_type": "code",
   "execution_count": 27,
   "id": "ba37c9a9",
   "metadata": {},
   "outputs": [
    {
     "name": "stdout",
     "output_type": "stream",
     "text": [
      "1.071510288125467e-156\n",
      "1.071510288125467e-156\n",
      "-9.332621544394415e+155\n",
      "-1 1.071510288125467e-156 -9.332621544394415e+155 -9.332621544394415e+155 0.36787944117144233\n"
     ]
    }
   ],
   "source": [
    "import numpy as np\n",
    "np.exp(-1)\n",
    "\n",
    "\n",
    "def e_minusx_simple(x):\n",
    "    emx=0.0\n",
    "    n=0.0\n",
    "    for n in range (0,100):\n",
    "        nf= np.math.factorial(n)\n",
    "        xn= x**n\n",
    "        xnf= xn/nf\n",
    "        emxsmp= (-1**n) * xnf\n",
    "    return emxsmp\n",
    "print (e_minusx_simple(x))\n",
    "\n",
    "def e_minusx_recurse(x):\n",
    "    n = 0.0\n",
    "    emxrec = 0.0\n",
    "    for n in range (1,100):\n",
    "        nf = np.math.factorial(n)\n",
    "        xn = x**n\n",
    "        emxrec = (-1**n)*(xn/nf)\n",
    "    return emxrec\n",
    "print (e_minusx_recurse(x))\n",
    "\n",
    "def e_minusx_recurse(x):\n",
    "# code here\n",
    "    n=0.0\n",
    "    emxinv=0.0\n",
    "    for n in range (0,100):\n",
    "        nf= np.math.factorial(n)\n",
    "        xn= x**n\n",
    "        xnf= xn/nf\n",
    "        emxinv= xnf**-1\n",
    "    return emxinv\n",
    "print (e_minusx_recurse(x))\n",
    "\n",
    "np.exp(x)\n",
    "\n",
    "print(x, e_minusx_simple(x),e_minusx_recurse(x), e_minusx_recurse(x), np.exp(x))"
   ]
  },
  {
   "cell_type": "code",
   "execution_count": 13,
   "id": "ebafe296",
   "metadata": {},
   "outputs": [
    {
     "name": "stdout",
     "output_type": "stream",
     "text": [
      "-0.0014109347442680777\n"
     ]
    }
   ],
   "source": [
    "def e_minusx_simple(x):\n",
    "    emx=0.0\n",
    "    n=0.0\n",
    "    for n in range (0,10):\n",
    "        nf= np.math.factorial(n)\n",
    "        xn= x**n\n",
    "        xnf= xn/nf\n",
    "        emxsmp= (-1**n) * xnf\n",
    "    return emxsmp\n",
    "print (e_minusx_simple(x))"
   ]
  },
  {
   "cell_type": "code",
   "execution_count": 12,
   "id": "7d5652f0",
   "metadata": {},
   "outputs": [
    {
     "name": "stdout",
     "output_type": "stream",
     "text": [
      "708.75\n"
     ]
    }
   ],
   "source": [
    "def e_minusx_recurse(x):\n",
    "# code here\n",
    "    n=0.0\n",
    "    emxinv=0.0\n",
    "    for n in range (1,10):\n",
    "        nf= np.math.factorial(n)\n",
    "        xn= x**n\n",
    "        xnf= xn/nf\n",
    "        emxinv= xnf**-1\n",
    "    return emxinv\n",
    "print (e_minusx_recurse(x))"
   ]
  },
  {
   "cell_type": "code",
   "execution_count": 18,
   "id": "e25181f1",
   "metadata": {},
   "outputs": [
    {
     "name": "stdout",
     "output_type": "stream",
     "text": [
      "-0.0014109347442680777\n"
     ]
    }
   ],
   "source": [
    "def e_minusx_recurse(x):\n",
    "    n = 0.0\n",
    "    emxrec = 0.0\n",
    "    for n in range (1,10):\n",
    "        nf = np.math.factorial(n)\n",
    "        xn = x**n\n",
    "        emxrec = (-1**n)*(xn/nf)\n",
    "    return emxrec\n",
    "print (e_minusx_recurse(x))"
   ]
  },
  {
   "cell_type": "code",
   "execution_count": 26,
   "id": "60a47e30",
   "metadata": {},
   "outputs": [
    {
     "data": {
      "text/plain": [
       "0.36787944117144233"
      ]
     },
     "execution_count": 26,
     "metadata": {},
     "output_type": "execute_result"
    }
   ],
   "source": [
    "np.exp(-1)"
   ]
  },
  {
   "cell_type": "code",
   "execution_count": null,
   "id": "9f803118",
   "metadata": {},
   "outputs": [],
   "source": []
  }
 ],
 "metadata": {
  "kernelspec": {
   "display_name": "Python 3",
   "language": "python",
   "name": "python3"
  },
  "language_info": {
   "codemirror_mode": {
    "name": "ipython",
    "version": 3
   },
   "file_extension": ".py",
   "mimetype": "text/x-python",
   "name": "python",
   "nbconvert_exporter": "python",
   "pygments_lexer": "ipython3",
   "version": "3.8.8"
  }
 },
 "nbformat": 4,
 "nbformat_minor": 5
}
